{
 "cells": [
  {
   "cell_type": "code",
   "execution_count": 1,
   "metadata": {},
   "outputs": [
    {
     "name": "stderr",
     "output_type": "stream",
     "text": [
      "d:\\anaconda3\\envs\\StockLSTM\\lib\\site-packages\\tqdm\\auto.py:21: TqdmWarning: IProgress not found. Please update jupyter and ipywidgets. See https://ipywidgets.readthedocs.io/en/stable/user_install.html\n",
      "  from .autonotebook import tqdm as notebook_tqdm\n"
     ]
    }
   ],
   "source": [
    "import spacy\n",
    "from fastcoref import FCoref, LingMessCoref\n",
    "import torch\n",
    "import nltk"
   ]
  },
  {
   "cell_type": "code",
   "execution_count": 2,
   "metadata": {},
   "outputs": [
    {
     "name": "stderr",
     "output_type": "stream",
     "text": [
      "11/09/2023 09:31:45 - INFO - \t missing_keys: []\n",
      "11/09/2023 09:31:45 - INFO - \t unexpected_keys: []\n",
      "11/09/2023 09:31:45 - INFO - \t mismatched_keys: []\n",
      "11/09/2023 09:31:45 - INFO - \t error_msgs: []\n",
      "11/09/2023 09:31:45 - INFO - \t Model Parameters: 90.5M, Transformer: 82.1M, Coref head: 8.4M\n",
      "11/09/2023 09:31:53 - INFO - \t missing_keys: []\n",
      "11/09/2023 09:31:53 - INFO - \t unexpected_keys: []\n",
      "11/09/2023 09:31:53 - INFO - \t mismatched_keys: []\n",
      "11/09/2023 09:31:53 - INFO - \t error_msgs: []\n",
      "11/09/2023 09:31:53 - INFO - \t Model Parameters: 590.0M, Transformer: 434.6M, Coref head: 155.4M\n"
     ]
    }
   ],
   "source": [
    "FCorefmodel = FCoref(device='cuda:0')\n",
    "LMCorefmodel = LingMessCoref(device='cuda:0')"
   ]
  },
  {
   "cell_type": "code",
   "execution_count": 3,
   "metadata": {},
   "outputs": [
    {
     "name": "stdout",
     "output_type": "stream",
     "text": [
      "Theodore Roosevelt Jr., often referred to as Teddy or by his initials, T. R., was an American politician, statesman, soldier, conservationist, naturalist, historian, and writer who served as the 26th president of the United States from 1901 to 1909. He previously served as the 25th vice president under President William McKinley from March to September 1901 and as the 33rd governor of New York from 1899 to 1900. Assuming the presidency after McKinley's assassination, Roosevelt emerged as a leader of the Republican Party and became a driving force for anti-trust and Progressive policies. A sickly child with debilitating asthma, he overcame his health problems as he grew by embracing a strenuous lifestyle. Roosevelt integrated his exuberant personality and a vast range of interests and achievements into a \"cowboy\" persona defined by robust masculinity. He was home-schooled and began a lifelong naturalist avocation before attending Harvard College. His book The Naval War of 1812 (1882) established his reputation as a learned historian and popular writer. Upon entering politics, Roosevelt became the leader of the reform faction of Republicans in New York's state legislature. His first wife and mother died on the same night, devastating him psychologically. He recuperated by buying and operating a cattle ranch in the Dakotas. Roosevelt served as Assistant Secretary of the Navy under President McKinley, and in 1898 helped plan the highly successful naval war against Spain. He resigned to help form and lead the Rough Riders, a unit that fought the Spanish Army in Cuba to great publicity. Returning a war hero, Roosevelt was elected governor of New York in 1898. The New York state party leadership disliked his ambitious agenda and convinced McKinley to choose him as his running mate in the 1900 election. Roosevelt campaigned vigorously and the McKinley–Roosevelt ticket won a landslide victory based on a platform of victory, peace, and prosperity. Roosevelt assumed the presidency at age 42, and remains the youngest person to become president of the United States. As a leader of the progressive movement he championed his \"Square Deal\" domestic policies. It called for fairness for all citizens, breaking of bad trusts, regulation of railroads, and pure food and drugs. Roosevelt prioritized conservation and established national parks, forests, and monuments to preserve the nation's natural resources. In foreign policy, he focused on Central America, where he began construction of the Panama Canal. Roosevelt expanded the Navy and sent the Great White Fleet on a world tour to project American naval power. His successful efforts to broker the end of the Russo-Japanese War won him the 1906 Nobel Peace Prize, making him the first American to ever win a Nobel Prize. Roosevelt was elected to a full term in 1904 and promoted policies more to the left, despite growing opposition from Republican leaders. During his presidency, he groomed his close ally William Howard Taft to succeed him in the 1908 presidential election. Roosevelt grew frustrated with Taft's conservatism and belatedly tried to win the 1912 Republican nomination for president. He failed, walked out, and founded the new Progressive Party. He ran in the 1912 presidential election and the split allowed the Democratic nominee Woodrow Wilson to win the election. Following the defeat, Roosevelt led a four-month expedition to the Amazon basin where he nearly died of tropical disease. During World War I, he criticized Wilson for keeping the country out of the war, and his offer to lead volunteers to France was rejected. Roosevelt considered running for president again in 1920, but his health continued to deteriorate and he died in 1919. Polls of historians and political scientists rank him as one of the greatest presidents in American history. Early life and family. Theodore Roosevelt at age 11. Theodore Roosevelt Jr. was born on October 27, 1858, at 28 East 20th Street in Manhattan, New York City. He was the second of four children born to socialite Martha Stewart Bulloch and businessman and philanthropist Theodore Roosevelt Sr. He had an older sister (Anna), a younger brother (Elliott) and a younger sister (Corinne). Elliott was later the father of Anna Eleanor Roosevelt who married Theodore's distant cousin, Franklin Delano Roosevelt. His paternal grandfather was of Dutch descent; his other ancestry included primarily Scottish and Scots-Irish, English and smaller amounts of German, Welsh, and French. Theodore Sr. was the fifth son of businessman Cornelius Van Schaack \"C. V. S.\" Roosevelt and Margaret Barnhill as well as a brother of Robert Roosevelt and James A. Roosevelt. Theodore's fourth cousin, James Roosevelt I, who was also a businessman, was the father of President Franklin Delano Roosevelt. Martha was the younger daughter of Major James Stephens Bulloch and Martha P. \"Patsy\" Stewart. Through the Van Schaacks, Roosevelt was a descendant of the Schuyler family. Roosevelt's youth was largely shaped by his poor health and debilitating asthma. He repeatedly experienced sudden nighttime asthma attacks that caused the experience of being smothered to death, which terrified both Theodore and his parents. Doctors had no cure. Nevertheless, he was energetic and mischievously inquisitive. His lifelong interest in zoology began at age seven when he saw a dead seal at a local market; after obtaining the seal's head, Roosevelt and two cousins formed what they called the \"Roosevelt Museum of Natural History\". Having learned the rudiments of taxidermy, he filled his makeshift museum with animals that he killed or caught; he then studied the animals and prepared them for exhibition. At age nine, he recorded his observation of insects in a paper entitled \"The Natural History of Insects\". Roosevelt's father significantly influenced him. His father was a prominent leader in New York's cultural affairs; he helped to found the Metropolitan Museum of Art, and had been especially active in mobilizing support for the Union during the American Civil War, even though his in-laws included Confederate leaders. Roosevelt said, \"My father, Theodore Roosevelt, was the best man I ever knew. He combined strength and courage with gentleness, tenderness, and great unselfishness. He would not tolerate in us children selfishness or cruelty, idleness, cowardice, or untruthfulness.\" 6-year-old Theodore and 5-year-old Elliott watch Lincoln's funeral procession from the second-floor window of their grandfather's mansion (at top left, facing the camera), Manhattan, April 25, 1865. Family trips abroad, including tours of Europe in 1869 and 1870, and Egypt in 1872, shaped his cosmopolitan perspective. Hiking with his family in the Alps in 1869, Roosevelt found that he could keep pace with his father. He had discovered the significant benefits of physical exertion to minimize his asthma and bolster his spirits. Roosevelt began a heavy regime of exercise. After being manhandled by two older boys on a camping trip, he found a boxing coach to teach him to fight and strengthen his body. A 6-year-old Roosevelt witnessed the funeral procession of Abraham Lincoln from his grandfather Cornelius's mansion in Union Square, New York City, where he was photographed in the window along with his brother Elliott, as confirmed by his second wife, Edith, who was also present. Education. Roosevelt was homeschooled, mostly by tutors and his parents. Biographer H. W. Brands argued that \"The most obvious drawback to his home schooling was uneven coverage of the various areas of human knowledge.\" He was solid in geography and bright in history, biology, French, and German; however, he struggled in mathematics and the classical languages. When he entered Harvard College on September 27, 1876, his father advised: \"Take care of your morals first, your health next, and finally your studies.\" His father's sudden death on February 9, 1878, devastated Roosevelt, but he eventually recovered and doubled his activities. His father, a devout Presbyterian, regularly led the family in prayers. While at Harvard, young Theodore emulated him by teaching Sunday School for more than three years at Christ Church in Cambridge. When the minister at Christ Church, which was an Episcopal church, eventually insisted he become an Episcopalian to continue teaching in the Sunday School, Roosevelt declined, and instead began teaching a mission class in a poor section of Cambridge. He did well in science, philosophy, and rhetoric courses but continued to struggle in Latin and Greek. He studied biology intently and was already an accomplished naturalist and a published ornithologist. He read prodigiously with an almost photographic memory. While at Harvard, Roosevelt participated in rowing and boxing; he was once runner-up in an intramural boxing tournament. Roosevelt was a member of the Alpha Delta Phi literary society (later the Fly Club), the Delta Kappa Epsilon fraternity, and the prestigious Porcellian Club; he was also an editor of The Harvard Advocate. In 1880, Roosevelt graduated Phi Beta Kappa (22nd of 177) from Harvard with an A.B. magna cum laude. Biographer Henry F. Pringle states:\n",
      "\n",
      "Roosevelt, attempting to analyze his college career and weigh the benefits he had received, felt that he had obtained little from Harvard. He had been depressed by the formalistic treatment of many subjects, by the rigidity, the attention to minutiae that were important in themselves, but which somehow were never linked up with the whole. Roosevelt's birthplace at 28 East 20th Street in Manhattan, New York City\n",
      "After his father's death, Roosevelt had inherited $65,000 (equivalent to $1,971,069 in 2022), enough wealth on which he could live comfortably for the rest of his life. Roosevelt gave up his earlier plan of studying natural science and decided to attend Columbia Law School instead, moving back into his family's home in New York City. Although Roosevelt was an able law student, he often found law to be irrational. He spent much of his time writing a book on the War of 1812. Determined to enter politics, Roosevelt began attending meetings at Morton Hall, the 59th Street headquarters of New York's 21st District Republican Association. Though Roosevelt's father had been a prominent member of the Republican Party, the younger Roosevelt made an unorthodox career choice for someone of his class, as most of Roosevelt's peers refrained from becoming too closely involved in politics. Roosevelt found allies in the local Republican Party and defeated an incumbent Republican state assemblyman tied to the political machine of Senator Roscoe Conkling closely. After his election victory, Roosevelt decided to drop out of law school, later saying, \"I intended to be one of the governing class.\"\n"
     ]
    }
   ],
   "source": [
    "dir = \"small_teddy.txt\"\n",
    "text_file = open(dir, \"r\")\n",
    "txt = text_file.read()\n",
    "text_file.close()\n",
    "normal_sentence = nltk.sent_tokenize(txt)\n",
    "\n",
    "text = ' '.join(normal_sentence)\n",
    "print(text)"
   ]
  },
  {
   "cell_type": "code",
   "execution_count": 4,
   "metadata": {},
   "outputs": [
    {
     "data": {
      "text/plain": [
       "['Theodore Roosevelt Jr., often referred to as Teddy or by his initials, T. R., was an American politician, statesman, soldier, conservationist, naturalist, historian, and writer who served as the 26th president of the United States from 1901 to 1909.',\n",
       " 'He previously served as the 25th vice president under President William McKinley from March to September 1901 and as the 33rd governor of New York from 1899 to 1900.',\n",
       " \"Assuming the presidency after McKinley's assassination, Roosevelt emerged as a leader of the Republican Party and became a driving force for anti-trust and Progressive policies.\",\n",
       " 'A sickly child with debilitating asthma, he overcame his health problems as he grew by embracing a strenuous lifestyle.',\n",
       " 'Roosevelt integrated his exuberant personality and a vast range of interests and achievements into a \"cowboy\" persona defined by robust masculinity.',\n",
       " 'He was home-schooled and began a lifelong naturalist avocation before attending Harvard College.',\n",
       " 'His book The Naval War of 1812 (1882) established his reputation as a learned historian and popular writer.',\n",
       " \"Upon entering politics, Roosevelt became the leader of the reform faction of Republicans in New York's state legislature.\",\n",
       " 'His first wife and mother died on the same night, devastating him psychologically.',\n",
       " 'He recuperated by buying and operating a cattle ranch in the Dakotas.',\n",
       " 'Roosevelt served as Assistant Secretary of the Navy under President McKinley, and in 1898 helped plan the highly successful naval war against Spain.',\n",
       " 'He resigned to help form and lead the Rough Riders, a unit that fought the Spanish Army in Cuba to great publicity.',\n",
       " 'Returning a war hero, Roosevelt was elected governor of New York in 1898.',\n",
       " 'The New York state party leadership disliked his ambitious agenda and convinced McKinley to choose him as his running mate in the 1900 election.',\n",
       " 'Roosevelt campaigned vigorously and the McKinley–Roosevelt ticket won a landslide victory based on a platform of victory, peace, and prosperity.',\n",
       " 'Roosevelt assumed the presidency at age 42, and remains the youngest person to become president of the United States.',\n",
       " 'As a leader of the progressive movement he championed his \"Square Deal\" domestic policies.',\n",
       " 'It called for fairness for all citizens, breaking of bad trusts, regulation of railroads, and pure food and drugs.',\n",
       " \"Roosevelt prioritized conservation and established national parks, forests, and monuments to preserve the nation's natural resources.\",\n",
       " 'In foreign policy, he focused on Central America, where he began construction of the Panama Canal.',\n",
       " 'Roosevelt expanded the Navy and sent the Great White Fleet on a world tour to project American naval power.',\n",
       " 'His successful efforts to broker the end of the Russo-Japanese War won him the 1906 Nobel Peace Prize, making him the first American to ever win a Nobel Prize.',\n",
       " 'Roosevelt was elected to a full term in 1904 and promoted policies more to the left, despite growing opposition from Republican leaders.',\n",
       " 'During his presidency, he groomed his close ally William Howard Taft to succeed him in the 1908 presidential election.',\n",
       " \"Roosevelt grew frustrated with Taft's conservatism and belatedly tried to win the 1912 Republican nomination for president.\",\n",
       " 'He failed, walked out, and founded the new Progressive Party.',\n",
       " 'He ran in the 1912 presidential election and the split allowed the Democratic nominee Woodrow Wilson to win the election.',\n",
       " 'Following the defeat, Roosevelt led a four-month expedition to the Amazon basin where he nearly died of tropical disease.',\n",
       " 'During World War I, he criticized Wilson for keeping the country out of the war, and his offer to lead volunteers to France was rejected.',\n",
       " 'Roosevelt considered running for president again in 1920, but his health continued to deteriorate and he died in 1919.',\n",
       " 'Polls of historians and political scientists rank him as one of the greatest presidents in American history.',\n",
       " 'Early life and family.',\n",
       " 'Theodore Roosevelt at age 11.',\n",
       " 'Theodore Roosevelt Jr. was born on October 27, 1858, at 28 East 20th Street in Manhattan, New York City.',\n",
       " 'He was the second of four children born to socialite Martha Stewart Bulloch and businessman and philanthropist Theodore Roosevelt Sr.',\n",
       " 'He had an older sister (Anna), a younger brother (Elliott) and a younger sister (Corinne).',\n",
       " \"Elliott was later the father of Anna Eleanor Roosevelt who married Theodore's distant cousin, Franklin Delano Roosevelt.\",\n",
       " 'His paternal grandfather was of Dutch descent; his other ancestry included primarily Scottish and Scots-Irish, English and smaller amounts of German, Welsh, and French.',\n",
       " 'Theodore Sr. was the fifth son of businessman Cornelius Van Schaack \"C. V. S.\" Roosevelt and Margaret Barnhill as well as a brother of Robert Roosevelt and James A. Roosevelt.',\n",
       " \"Theodore's fourth cousin, James Roosevelt I, who was also a businessman, was the father of President Franklin Delano Roosevelt.\",\n",
       " 'Martha was the younger daughter of Major James Stephens Bulloch and Martha P. \"Patsy\" Stewart.',\n",
       " 'Through the Van Schaacks, Roosevelt was a descendant of the Schuyler family.',\n",
       " \"Roosevelt's youth was largely shaped by his poor health and debilitating asthma.\",\n",
       " 'He repeatedly experienced sudden nighttime asthma attacks that caused the experience of being smothered to death, which terrified both Theodore and his parents.',\n",
       " 'Doctors had no cure.',\n",
       " 'Nevertheless, he was energetic and mischievously inquisitive.',\n",
       " 'His lifelong interest in zoology began at age seven when he saw a dead seal at a local market; after obtaining the seal\\'s head, Roosevelt and two cousins formed what they called the \"Roosevelt Museum of Natural History\".',\n",
       " 'Having learned the rudiments of taxidermy, he filled his makeshift museum with animals that he killed or caught; he then studied the animals and prepared them for exhibition.',\n",
       " 'At age nine, he recorded his observation of insects in a paper entitled \"The Natural History of Insects\".',\n",
       " \"Roosevelt's father significantly influenced him.\",\n",
       " \"His father was a prominent leader in New York's cultural affairs; he helped to found the Metropolitan Museum of Art, and had been especially active in mobilizing support for the Union during the American Civil War, even though his in-laws included Confederate leaders.\",\n",
       " 'Roosevelt said, \"My father, Theodore Roosevelt, was the best man I ever knew.',\n",
       " 'He combined strength and courage with gentleness, tenderness, and great unselfishness.',\n",
       " 'He would not tolerate in us children selfishness or cruelty, idleness, cowardice, or untruthfulness.\"',\n",
       " \"6-year-old Theodore and 5-year-old Elliott watch Lincoln's funeral procession from the second-floor window of their grandfather's mansion (at top left, facing the camera), Manhattan, April 25, 1865.\",\n",
       " 'Family trips abroad, including tours of Europe in 1869 and 1870, and Egypt in 1872, shaped his cosmopolitan perspective.',\n",
       " 'Hiking with his family in the Alps in 1869, Roosevelt found that he could keep pace with his father.',\n",
       " 'He had discovered the significant benefits of physical exertion to minimize his asthma and bolster his spirits.',\n",
       " 'Roosevelt began a heavy regime of exercise.',\n",
       " 'After being manhandled by two older boys on a camping trip, he found a boxing coach to teach him to fight and strengthen his body.',\n",
       " \"A 6-year-old Roosevelt witnessed the funeral procession of Abraham Lincoln from his grandfather Cornelius's mansion in Union Square, New York City, where he was photographed in the window along with his brother Elliott, as confirmed by his second wife, Edith, who was also present.\",\n",
       " 'Education.',\n",
       " 'Roosevelt was homeschooled, mostly by tutors and his parents.',\n",
       " 'Biographer H. W. Brands argued that \"The most obvious drawback to his home schooling was uneven coverage of the various areas of human knowledge.\"',\n",
       " 'He was solid in geography and bright in history, biology, French, and German; however, he struggled in mathematics and the classical languages.',\n",
       " 'When he entered Harvard College on September 27, 1876, his father advised: \"Take care of your morals first, your health next, and finally your studies.\"',\n",
       " \"His father's sudden death on February 9, 1878, devastated Roosevelt, but he eventually recovered and doubled his activities.\",\n",
       " 'His father, a devout Presbyterian, regularly led the family in prayers.',\n",
       " 'While at Harvard, young Theodore emulated him by teaching Sunday School for more than three years at Christ Church in Cambridge.',\n",
       " 'When the minister at Christ Church, which was an Episcopal church, eventually insisted he become an Episcopalian to continue teaching in the Sunday School, Roosevelt declined, and instead began teaching a mission class in a poor section of Cambridge.',\n",
       " 'He did well in science, philosophy, and rhetoric courses but continued to struggle in Latin and Greek.',\n",
       " 'He studied biology intently and was already an accomplished naturalist and a published ornithologist.',\n",
       " 'He read prodigiously with an almost photographic memory.',\n",
       " 'While at Harvard, Roosevelt participated in rowing and boxing; he was once runner-up in an intramural boxing tournament.',\n",
       " 'Roosevelt was a member of the Alpha Delta Phi literary society (later the Fly Club), the Delta Kappa Epsilon fraternity, and the prestigious Porcellian Club; he was also an editor of The Harvard Advocate.',\n",
       " 'In 1880, Roosevelt graduated Phi Beta Kappa (22nd of 177) from Harvard with an A.B.',\n",
       " 'magna cum laude.',\n",
       " 'Biographer Henry F. Pringle states:\\n\\nRoosevelt, attempting to analyze his college career and weigh the benefits he had received, felt that he had obtained little from Harvard.',\n",
       " 'He had been depressed by the formalistic treatment of many subjects, by the rigidity, the attention to minutiae that were important in themselves, but which somehow were never linked up with the whole.',\n",
       " \"Roosevelt's birthplace at 28 East 20th Street in Manhattan, New York City\\nAfter his father's death, Roosevelt had inherited $65,000 (equivalent to $1,971,069 in 2022), enough wealth on which he could live comfortably for the rest of his life.\",\n",
       " \"Roosevelt gave up his earlier plan of studying natural science and decided to attend Columbia Law School instead, moving back into his family's home in New York City.\",\n",
       " 'Although Roosevelt was an able law student, he often found law to be irrational.',\n",
       " 'He spent much of his time writing a book on the War of 1812.',\n",
       " \"Determined to enter politics, Roosevelt began attending meetings at Morton Hall, the 59th Street headquarters of New York's 21st District Republican Association.\",\n",
       " \"Though Roosevelt's father had been a prominent member of the Republican Party, the younger Roosevelt made an unorthodox career choice for someone of his class, as most of Roosevelt's peers refrained from becoming too closely involved in politics.\",\n",
       " 'Roosevelt found allies in the local Republican Party and defeated an incumbent Republican state assemblyman tied to the political machine of Senator Roscoe Conkling closely.',\n",
       " 'After his election victory, Roosevelt decided to drop out of law school, later saying, \"I intended to be one of the governing class.\"']"
      ]
     },
     "execution_count": 4,
     "metadata": {},
     "output_type": "execute_result"
    }
   ],
   "source": [
    "normal_sentence"
   ]
  },
  {
   "cell_type": "code",
   "execution_count": 5,
   "metadata": {},
   "outputs": [
    {
     "name": "stderr",
     "output_type": "stream",
     "text": [
      "11/09/2023 09:31:53 - INFO - \t Tokenize 1 inputs...\n",
      "11/09/2023 09:31:53 - INFO - \t ***** Running Inference on 1 texts *****\n",
      "Inference: 100%|██████████| 1/1 [00:00<00:00,  1.10it/s]\n",
      "11/09/2023 09:31:54 - INFO - \t Tokenize 1 inputs...\n",
      "11/09/2023 09:31:54 - INFO - \t ***** Running Inference on 1 texts *****\n",
      "Inference: 100%|██████████| 1/1 [00:01<00:00,  1.34s/it]\n"
     ]
    }
   ],
   "source": [
    "pred1 = FCorefmodel.predict(\n",
    "   texts=text\n",
    ")\n",
    "\n",
    "pred2 = LMCorefmodel.predict(\n",
    "    texts=text\n",
    ")"
   ]
  },
  {
   "cell_type": "code",
   "execution_count": 6,
   "metadata": {},
   "outputs": [],
   "source": [
    "FCoref_terms_stringtype = pred1.get_clusters(as_strings=True)\n",
    "LMCorefmodel_terms_stringtype = pred2.get_clusters(as_strings=True)\n",
    "\n",
    "FCoref_terms_indextype = pred1.get_clusters(as_strings=False)\n",
    "LMCorefmodel_terms_indextype = pred2.get_clusters(as_strings=False)"
   ]
  },
  {
   "cell_type": "code",
   "execution_count": 7,
   "metadata": {},
   "outputs": [
    {
     "name": "stdout",
     "output_type": "stream",
     "text": [
      "[(0, 77), (57, 60), (250, 252), (472, 481), (635, 637), (647, 650), (670, 672), (714, 723), (735, 738), (863, 865), (960, 963), (1010, 1013), (1092, 1101), (1190, 1193), (1252, 1255), (1273, 1275), (1343, 1352), (1492, 1494), (1630, 1639), (1727, 1730), (1781, 1784), (1827, 1836), (1972, 1981), (2130, 2132), (2144, 2147), (2296, 2305), (2449, 2451), (2486, 2488), (2529, 2538), (2637, 2640), (2708, 2711), (2747, 2750), (2797, 2806), (2941, 2944), (2957, 2959), (2968, 2971), (3014, 3017), (3053, 3062), (3177, 3179), (3239, 3241), (3383, 3392), (3447, 3449), (3503, 3505), (3621, 3630), (3683, 3686), (3723, 3725), (3790, 3793), (3872, 3890), (3902, 3924), (4007, 4009), (4141, 4143), (4299, 4309), (4698, 4708), (4947, 4956), (4998, 5009), (5038, 5041), (5079, 5081), (5214, 5222), (5227, 5230), (5275, 5277), (5323, 5326), (5380, 5382), (5451, 5460), (5587, 5589), (5597, 5600), (5636, 5638), (5657, 5659), (5732, 5734), (5744, 5747), (5825, 5836), (5869, 5872), (5874, 5877), (6143, 6152), (6160, 6162), (6208, 6209), (6700, 6703), (6742, 6745), (6774, 6783), (6795, 6797), (6819, 6822), (6831, 6833), (6907, 6910), (6930, 6933), (6943, 6952), (7047, 7049), (7080, 7083), (7108, 7111), (7411, 7420), (7460, 7463), (7539, 7542), (7620, 7622), (7707, 7709), (7769, 7771), (7819, 7822), (7853, 7857), (7872, 7876), (7902, 7906), (7917, 7920), (7975, 7984), (7990, 7992), (8026, 8029), (8042, 8045), (8132, 8146), (8330, 8332), (8399, 8408), (8494, 8496), (8597, 8599), (8699, 8701), (8774, 8783), (8819, 8821), (8877, 8886), (9035, 9037), (9091, 9100), (9220, 9229), (9253, 9256), (9295, 9297), (9322, 9324), (9359, 9361), (9561, 9572), (9641, 9644), (9661, 9670), (9752, 9754), (9794, 9797), (9804, 9813), (9822, 9825), (9935, 9938), (9980, 9989), (10015, 10017), (10052, 10054), (10069, 10072), (10143, 10152), (10282, 10293), (10354, 10375), (10424, 10427), (10446, 10457), (10522, 10531), (10702, 10705), (10724, 10733), (10784, 10785)]\n",
      "[(304, 330), (446, 456), (1401, 1419), (1762, 1770), (1788, 1791), (1867, 1875)]\n",
      "[(388, 396), (1160, 1170), (1664, 1672), (1686, 1694), (3992, 4005), (5911, 5921), (7251, 7264), (9621, 9634), (9956, 9969), (10226, 10236)]\n",
      "[(1428, 1432), (1676, 1680)]\n",
      "[(425, 439), (1990, 2004)]\n",
      "[(213, 230), (2071, 2088), (2398, 2410), (3536, 3547)]\n",
      "[(2144, 2179), (2181, 2183)]\n",
      "[(1386, 1394), (2548, 2556)]\n",
      "[(2712, 2738), (2782, 2795)]\n",
      "[(2968, 3002), (3084, 3090)]\n",
      "[(3135, 3139), (3253, 3257)]\n",
      "[(3249, 3279), (3347, 3359)]\n",
      "[(3343, 3346), (3371, 3381)]\n",
      "[(3302, 3339), (3517, 3523), (3568, 3571)]\n",
      "[(3490, 3501), (3555, 3562)]\n",
      "[(4172, 4199), (4232, 4239), (4353, 4356)]\n",
      "[(4353, 4377), (4400, 4403)]\n",
      "[(4087, 4139), (4522, 4534), (5825, 5843), (5874, 5884), (5940, 5942), (6101, 6104), (6160, 6189), (6221, 6223), (6308, 6310), (6819, 6829), (7819, 7829), (7917, 7929), (8042, 8075), (8042, 8076), (8156, 8159), (9641, 9653), (10282, 10300)]\n",
      "[(4299, 4351), (4789, 4824)]\n",
      "[(4050, 4082), (4826, 4832)]\n",
      "[(4556, 4632), (4929, 4945)]\n",
      "[(5387, 5398), (5434, 5444)]\n",
      "[(5451, 5476), (5489, 5493)]\n",
      "[(5501, 5542), (5597, 5617)]\n",
      "[(5623, 5655), (5673, 5684), (5698, 5702)]\n",
      "[(6410, 6452), (6520, 6525)]\n",
      "[(6659, 6663), (6768, 6772)]\n",
      "[(6459, 6468), (7177, 7192)]\n",
      "[(7118, 7140), (7198, 7201), (7272, 7274), (7317, 7320), (7354, 7357)]\n",
      "[(6520, 6539), (7198, 7225)]\n",
      "[(6434, 6452), (7317, 7336)]\n",
      "[(943, 958), (7780, 7795), (8123, 8130), (8765, 8772), (9145, 9152), (9350, 9357)]\n",
      "[(8215, 8241), (8264, 8308), (8264, 8309)]\n",
      "[(8172, 8185), (8380, 8397)]\n",
      "[(8232, 8241), (8483, 8492)]\n",
      "[(9462, 9559), (9494, 9504)]\n",
      "[(3981, 4005), (9610, 9634)]\n",
      "[(3726, 3730), (9641, 9659)]\n",
      "[(505, 525), (10332, 10352)]\n",
      "[(10579, 10587), (10702, 10722)]\n"
     ]
    }
   ],
   "source": [
    "for i in range(len(FCoref_terms_indextype)):\n",
    "    print(FCoref_terms_indextype[i])"
   ]
  },
  {
   "cell_type": "code",
   "execution_count": 8,
   "metadata": {},
   "outputs": [
    {
     "name": "stdout",
     "output_type": "stream",
     "text": [
      "['Theodore Roosevelt Jr., often referred to as Teddy or by his initials, T. R.,', 'his', 'He', 'Roosevelt', 'he', 'his', 'he', 'Roosevelt', 'his', 'He', 'His', 'his', 'Roosevelt', 'His', 'him', 'He', 'Roosevelt', 'He', 'Roosevelt', 'his', 'him', 'Roosevelt', 'Roosevelt', 'he', 'his', 'Roosevelt', 'he', 'he', 'Roosevelt', 'His', 'him', 'him', 'Roosevelt', 'his', 'he', 'his', 'him', 'Roosevelt', 'He', 'He', 'Roosevelt', 'he', 'he', 'Roosevelt', 'his', 'he', 'him', 'Theodore Roosevelt', 'Theodore Roosevelt Jr.', 'He', 'He', \"Theodore's\", \"Theodore's\", 'Roosevelt', \"Roosevelt's\", 'his', 'He', 'Theodore', 'his', 'he', 'His', 'he', 'Roosevelt', 'he', 'his', 'he', 'he', 'he', 'his', \"Roosevelt's\", 'him', 'His', 'Roosevelt', 'My', 'I', 'his', 'his', 'Roosevelt', 'he', 'his', 'He', 'his', 'his', 'Roosevelt', 'he', 'him', 'his', 'Roosevelt', 'his', 'his', 'He', 'he', 'he', 'his', 'your', 'your', 'your', 'His', 'Roosevelt', 'he', 'his', 'His', 'young Theodore', 'he', 'Roosevelt', 'He', 'He', 'He', 'Roosevelt', 'he', 'Roosevelt', 'he', 'Roosevelt', 'Roosevelt', 'his', 'he', 'he', 'He', \"Roosevelt's\", 'his', 'Roosevelt', 'he', 'his', 'Roosevelt', 'his', 'his', 'Roosevelt', 'he', 'He', 'his', 'Roosevelt', \"Roosevelt's\", 'the younger Roosevelt', 'his', \"Roosevelt's\", 'Roosevelt', 'his', 'Roosevelt', 'I']\n",
      "['President William McKinley', \"McKinley's\", 'President McKinley', 'McKinley', 'his', 'McKinley']\n",
      "['New York', \"New York's\", 'New York', 'New York', 'New York City', \"New York's\", 'New York City', 'New York City', 'New York City', \"New York's\"]\n",
      "['1898', '1898']\n",
      "['the presidency', 'the presidency']\n",
      "['the United States', 'the United States', \"the nation's\", 'the country']\n",
      "['his \"Square Deal\" domestic policies', 'It']\n",
      "['the Navy', 'the Navy']\n",
      "['the 1906 Nobel Peace Prize', 'a Nobel Prize']\n",
      "['his close ally William Howard Taft', \"Taft's\"]\n",
      "['1912', '1912']\n",
      "['the 1912 presidential election', 'the election']\n",
      "['win', 'the defeat']\n",
      "['the Democratic nominee Woodrow Wilson', 'Wilson', 'his']\n",
      "['World War I', 'the war']\n",
      "['a younger brother (Elliott)', 'Elliott', 'His']\n",
      "['His paternal grandfather', 'his']\n",
      "['businessman and philanthropist Theodore Roosevelt Sr', 'Theodore Sr.', \"Roosevelt's father\", 'His father', 'he', 'his', 'My father, Theodore Roosevelt', 'He', 'He', 'his father', 'his father', \"His father's\", 'His father, a devout Presbyterian', 'His father, a devout Presbyterian,', 'him', \"his father's\", \"Roosevelt's father\"]\n",
      "[\"Theodore's distant cousin, Franklin Delano Roosevelt\", 'President Franklin Delano Roosevelt']\n",
      "['socialite Martha Stewart Bulloch', 'Martha']\n",
      "['businessman Cornelius Van Schaack \"C. V. S.\" Roosevelt and Margaret Barnhill', 'the Van Schaacks']\n",
      "['a dead seal', \"the seal's\"]\n",
      "['Roosevelt and two cousins', 'they']\n",
      "['the \"Roosevelt Museum of Natural History\"', 'his makeshift museum']\n",
      "['animals that he killed or caught', 'the animals', 'them']\n",
      "['6-year-old Theodore and 5-year-old Elliott', 'their']\n",
      "['1869', '1869']\n",
      "[\"Lincoln's\", 'Abraham Lincoln']\n",
      "['A 6-year-old Roosevelt', 'his', 'he', 'his', 'his']\n",
      "[\"their grandfather's\", \"his grandfather Cornelius's\"]\n",
      "['5-year-old Elliott', 'his brother Elliott']\n",
      "['Harvard College', 'Harvard College', 'Harvard', 'Harvard', 'Harvard', 'Harvard']\n",
      "['Christ Church in Cambridge', 'Christ Church, which was an Episcopal church', 'Christ Church, which was an Episcopal church,']\n",
      "['Sunday School', 'the Sunday School']\n",
      "['Cambridge', 'Cambridge']\n",
      "['minutiae that were important in themselves, but which somehow were never linked up with the whole', 'themselves']\n",
      "['Manhattan, New York City', 'Manhattan, New York City']\n",
      "['died', \"his father's death\"]\n",
      "['the Republican Party', 'the Republican Party']\n",
      "['defeated', 'his election victory']\n",
      "40\n"
     ]
    }
   ],
   "source": [
    "for cluster in FCoref_terms_stringtype:\n",
    "    print(cluster)\n",
    "print(len(FCoref_terms_stringtype))"
   ]
  },
  {
   "cell_type": "code",
   "execution_count": 9,
   "metadata": {},
   "outputs": [
    {
     "name": "stdout",
     "output_type": "stream",
     "text": [
      "(0, 77, 'Theodore Roosevelt Jr., often referred to as Teddy or by his initials, T. R.,', 0)\n"
     ]
    }
   ],
   "source": [
    "# indexing the location of pronouns\n",
    "\n",
    "terms = []\n",
    "start_inds = []\n",
    "cluster_inds = []\n",
    "end_inds = []\n",
    "\n",
    "for i, cluster in enumerate(FCoref_terms_stringtype):\n",
    "    for j, term in enumerate(cluster):\n",
    "        terms.append(term)\n",
    "        cluster_inds.append(i)\n",
    "        start_inds.append(FCoref_terms_indextype[i][j][0])\n",
    "        end_inds.append(FCoref_terms_indextype[i][j][1])\n",
    "\n",
    "coref_output = list(zip(start_inds, end_inds, terms, cluster_inds))\n",
    "sorted_coref_output = sorted(coref_output, key = lambda x: x[0])\n",
    "print(sorted_coref_output[0])\n",
    "\n"
   ]
  },
  {
   "cell_type": "code",
   "execution_count": 10,
   "metadata": {},
   "outputs": [
    {
     "name": "stdout",
     "output_type": "stream",
     "text": [
      "(250, 415, 'He previously served as the 25th vice president under President William McKinley from March to September 1901 and as the 33rd governor of New York from 1899 to 1900.')\n"
     ]
    }
   ],
   "source": [
    "# find indeces of sentences\n",
    "nlp = spacy.load('en_core_web_sm')\n",
    "doc = nlp(text)\n",
    "\n",
    "doc_sentences = []\n",
    "start_chars = []\n",
    "end_chars = []\n",
    "for sent in doc.sents:\n",
    "    doc_sentences.append(sent.text)\n",
    "    start_chars.append(sent.start_char)\n",
    "    end_chars.append(sent.end_char)\n",
    "    # print(sent.text, sent.start_char, sent.end_char)\n",
    "\n",
    "sent_inds = list(zip(start_chars, end_chars, doc_sentences))\n",
    "print(sent_inds[1])\n"
   ]
  },
  {
   "cell_type": "code",
   "execution_count": 11,
   "metadata": {},
   "outputs": [
    {
     "name": "stdout",
     "output_type": "stream",
     "text": [
      "Theodore Roosevelt Jr., often referred to as Teddy or by his initials, T. R.,\n"
     ]
    }
   ],
   "source": [
    "print(text[0:77])"
   ]
  },
  {
   "cell_type": "code",
   "execution_count": 12,
   "metadata": {},
   "outputs": [
    {
     "name": "stdout",
     "output_type": "stream",
     "text": [
      "['Theodore Roosevelt Jr., often referred to as Teddy or by his initials, T. R.,', 'Roosevelt', 'Roosevelt', 'Roosevelt', 'Roosevelt', 'Roosevelt', 'Roosevelt', 'Roosevelt', 'Roosevelt', 'Roosevelt', 'Roosevelt', 'Roosevelt', 'Roosevelt', 'Roosevelt', 'Theodore Roosevelt', 'Theodore Roosevelt Jr.', \"Theodore's\", \"Theodore's\", 'Roosevelt', \"Roosevelt's\", 'Theodore', 'Roosevelt', \"Roosevelt's\", 'Roosevelt', 'Roosevelt', 'Roosevelt', 'Roosevelt', 'Roosevelt', 'young Theodore', 'Roosevelt', 'Roosevelt', 'Roosevelt', 'Roosevelt', 'Roosevelt', \"Roosevelt's\", 'Roosevelt', 'Roosevelt', 'Roosevelt', 'Roosevelt', \"Roosevelt's\", 'the younger Roosevelt', \"Roosevelt's\", 'Roosevelt', 'Roosevelt']\n",
      "Roosevelt\n",
      "['President William McKinley', \"McKinley's\", 'President McKinley', 'McKinley', 'McKinley']\n",
      "McKinley\n",
      "['New York', \"New York's\", 'New York', 'New York', 'New York City', \"New York's\", 'New York City', 'New York City', 'New York City', \"New York's\"]\n",
      "New York\n",
      "['1898', '1898']\n",
      "1898\n",
      "['the presidency', 'the presidency']\n",
      "the presidency\n",
      "['the United States', 'the United States', \"the nation's\", 'the country']\n",
      "the United States\n",
      "['his \"Square Deal\" domestic policies']\n",
      "his \"Square Deal\" domestic policies\n",
      "['the Navy', 'the Navy']\n",
      "the Navy\n",
      "['the 1906 Nobel Peace Prize', 'a Nobel Prize']\n",
      "a Nobel Prize\n",
      "['his close ally William Howard Taft', \"Taft's\"]\n",
      "Taft's\n",
      "['1912', '1912']\n",
      "1912\n",
      "['the 1912 presidential election', 'the election']\n",
      "the 1912 presidential election\n",
      "['win', 'the defeat']\n",
      "the defeat\n",
      "['the Democratic nominee Woodrow Wilson', 'Wilson']\n",
      "Wilson\n",
      "['World War I', 'the war']\n",
      "World War I\n",
      "['a younger brother (Elliott)', 'Elliott']\n",
      "Elliott\n",
      "['His paternal grandfather']\n",
      "His paternal grandfather\n",
      "['businessman and philanthropist Theodore Roosevelt Sr', 'Theodore Sr.', \"Roosevelt's father\", 'His father', 'My father, Theodore Roosevelt', 'his father', 'his father', \"His father's\", 'His father, a devout Presbyterian', 'His father, a devout Presbyterian,', \"his father's\", \"Roosevelt's father\"]\n",
      "His father\n",
      "[\"Theodore's distant cousin, Franklin Delano Roosevelt\", 'President Franklin Delano Roosevelt']\n",
      "President Franklin Delano Roosevelt\n",
      "['socialite Martha Stewart Bulloch', 'Martha']\n",
      "Martha\n",
      "['businessman Cornelius Van Schaack \"C. V. S.\" Roosevelt and Margaret Barnhill', 'the Van Schaacks']\n",
      "businessman Cornelius Van Schaack \"C. V. S.\" Roosevelt and Margaret Barnhill\n",
      "['a dead seal', \"the seal's\"]\n",
      "a dead seal\n",
      "['Roosevelt and two cousins']\n",
      "Roosevelt and two cousins\n",
      "['the \"Roosevelt Museum of Natural History\"', 'his makeshift museum']\n",
      "his makeshift museum\n",
      "['animals that he killed or caught', 'the animals']\n",
      "animals that he killed or caught\n",
      "['6-year-old Theodore and 5-year-old Elliott']\n",
      "6-year-old Theodore and 5-year-old Elliott\n",
      "['1869', '1869']\n",
      "1869\n",
      "[\"Lincoln's\", 'Abraham Lincoln']\n",
      "Abraham Lincoln\n",
      "['A 6-year-old Roosevelt']\n",
      "A 6-year-old Roosevelt\n",
      "[\"their grandfather's\", \"his grandfather Cornelius's\"]\n",
      "his grandfather Cornelius's\n",
      "['5-year-old Elliott', 'his brother Elliott']\n",
      "5-year-old Elliott\n",
      "['Harvard College', 'Harvard College', 'Harvard', 'Harvard', 'Harvard', 'Harvard']\n",
      "Harvard\n",
      "['Christ Church in Cambridge', 'Christ Church, which was an Episcopal church', 'Christ Church, which was an Episcopal church,']\n",
      "Christ Church in Cambridge\n",
      "['Sunday School', 'the Sunday School']\n",
      "Sunday School\n",
      "['Cambridge', 'Cambridge']\n",
      "Cambridge\n",
      "['minutiae that were important in themselves, but which somehow were never linked up with the whole', 'themselves']\n",
      "minutiae that were important in themselves, but which somehow were never linked up with the whole\n",
      "['Manhattan, New York City', 'Manhattan, New York City']\n",
      "Manhattan, New York City\n",
      "['died', \"his father's death\"]\n",
      "died\n",
      "['the Republican Party', 'the Republican Party']\n",
      "the Republican Party\n",
      "['defeated', 'his election victory']\n",
      "defeated\n"
     ]
    }
   ],
   "source": [
    "# find representative\n",
    "# preprocessing: normalize letters, remove common pronouns and those containing common pronouns\n",
    "# rank elements by their frequencies\n",
    "# choose those of highest frequency AND shortest in length (some are too long)\n",
    "\n",
    "def list_to_dict_count(list1):\n",
    "    \"\"\"Returns a dictionary with unique elements of the given list as keys and their count of occurrence as values.\n",
    "\n",
    "    Args:\n",
    "        list1: A Python list.\n",
    "\n",
    "    Returns:\n",
    "        A Python dictionary.\n",
    "    \"\"\"\n",
    "\n",
    "    dict1 = {}\n",
    "    for element in list1:\n",
    "        if element in dict1:\n",
    "            dict1[element] += 1\n",
    "        else:\n",
    "            dict1[element] = 1\n",
    "    dict1 = sorted(dict1, reverse= False)\n",
    "    return dict1\n",
    "\n",
    "pronouns = ['he', 'him', 'his', 'she', 'her', 'hers', 'they', 'them', 'their', 'theirs', 'i', 'my', 'mine', 'me', 'you', 'your', 'yours', 'it', 'its']\n",
    "cluster_representatives = []\n",
    "for i, cluster in enumerate(FCoref_terms_stringtype):\n",
    "    cluster_terms = [term.lower() for term in cluster]\n",
    "    removeables = []\n",
    "    # a good way of checking containment of pronouns is using .split, because history also has his\n",
    "    for j, term in enumerate(cluster_terms):\n",
    "        for pronoun in pronouns:\n",
    "            if pronoun == term:\n",
    "                removeables.append(j)\n",
    "                break\n",
    "    cluster = [cluster[i] for i in range(len(cluster)) if i not in removeables]\n",
    "    cluster_term_count = list_to_dict_count(cluster)\n",
    "    cluster_representatives.append(cluster_term_count[0])\n",
    "    print(cluster)\n",
    "    print(cluster_representatives[i])\n",
    "\n",
    "    \n",
    "\n"
   ]
  },
  {
   "cell_type": "code",
   "execution_count": 13,
   "metadata": {},
   "outputs": [
    {
     "name": "stdout",
     "output_type": "stream",
     "text": [
      "[1, 43, 60, 69, 90, 97, 99, 119, 124, 127, 133, 136, 142, 148, 150, 158, 169, 173, 183, 188, 193, 193, 194, 201, 202, 225, 228, 229, 229, 230, 245, 253]\n",
      "227\n"
     ]
    }
   ],
   "source": [
    "# replace per sentence\n",
    "# sai lam lon, viet lai sau\n",
    "\n",
    "# re-arrange the sorted_coref_output\n",
    "# if one term contains the other, ignore the child term\n",
    "ignoreable_coref = []\n",
    "for i in range(len(sorted_coref_output)):\n",
    "    for j in range(i + 1, len(sorted_coref_output)):\n",
    "        if sorted_coref_output[i][0] <= sorted_coref_output[j][0] and sorted_coref_output[i][1] >= sorted_coref_output[j][1]:\n",
    "            ignoreable_coref.append(j)\n",
    "        # very rough if-else case, look back on \"As a leader of the progressive movement\" sentence\n",
    "        elif sorted_coref_output[j][0] <= sorted_coref_output[i][0] and sorted_coref_output[j][1] >= sorted_coref_output[i][1]:\n",
    "            ignoreable_coref.append(i)\n",
    "\n",
    "\n",
    "print(ignoreable_coref)\n",
    "new_sorted_coref_output = [sorted_coref_output[i] for i in range(len(sorted_coref_output)) if i not in ignoreable_coref]\n",
    "print(len(new_sorted_coref_output))\n",
    "\n"
   ]
  },
  {
   "cell_type": "code",
   "execution_count": 14,
   "metadata": {},
   "outputs": [
    {
     "name": "stdout",
     "output_type": "stream",
     "text": [
      "Roosevelt was an American politician, statesman, soldier, conservationist, naturalist, historian, and writer who served as the 26th president of the United States from 1901 to 1909.\n",
      "Roosevelt previously served as the 25th vice president under McKinley from March to September 1901 and as the 33rd governor of New York from 1899 to 1900.\n",
      "Assuming the presidency after McKinley assassination, Roosevelt emerged as a leader of the Republican Party and became a driving force for anti-trust and Progressive policies.\n",
      "A sickly child with debilitating asthma, Roosevelt overcame Roosevelt health problems as Roosevelt grew by embracing a strenuous lifestyle.\n",
      "Roosevelt integrated Roosevelt exuberant personality and a vast range of interests and achievements into a \"cowboy\" persona defined by robust masculinity.\n",
      "Roosevelt was home-schooled and began a lifelong naturalist avocation before attending Harvard \n",
      "Roosevelt book The Naval War of 1812 (1882) established Roosevelt reputation as a learned historian and popular writer.\n",
      "Upon entering politics, Roosevelt became the leader of the reform faction of Republicans in New York state legislature.\n",
      "Roosevelt first wife and mother died on the same night, devastating Roosevelt psychologically.\n",
      "Roosevelt recuperated by buying and operating a cattle ranch in the Dakotas.\n",
      "Roosevelt served as Assistant Secretary of the Navy under McKinley  and in 1898 helped plan the highly successful naval war against Spain.\n",
      "Roosevelt resigned to help form and lead the Rough Riders, a unit that fought the Spanish Army in Cuba to great publicity.\n",
      "Returning a war hero, Roosevelt was elected governor of New York in 1898 \n",
      "The New York state party leadership disliked Roosevelt ambitious agenda and convinced McKinley to choose Roosevelt as McKinley running mate in the 1900 election.\n",
      "Roosevelt campaigned vigorously and the McKinley Roosevelt ticket won a landslide victory based on a platform of victory, peace, and prosperity.\n",
      "Roosevelt assumed the presidency at age 42, and remains the youngest person to become president of the United States \n",
      "As a leader of the progressive movement Roosevelt championed his \"Square Deal\" domestic policies \n",
      "his \"Square Deal\" domestic policies called for fairness for all citizens, breaking of bad trusts, regulation of railroads, and pure food and drugs.\n",
      "Roosevelt prioritized conservation and established national parks, forests, and monuments to preserve the United States natural resources.\n",
      "In foreign policy, Roosevelt focused on Central America, where Roosevelt began construction of the Panama Canal.\n",
      "Roosevelt expanded the Navy and sent the Great White Fleet on a world tour to project American naval power.\n",
      "Roosevelt successful efforts to broker the end of the Russo-Japanese War won Roosevelt a Nobel Prize  making Roosevelt the first American to ever win a Nobel Prize \n",
      "Roosevelt was elected to a full term in 1904 and promoted policies more to the left, despite growing opposition from Republican leaders.\n",
      "During Roosevelt presidency, Roosevelt groomed Taft's to succeed Roosevelt in the 1908 presidential election.\n",
      "Roosevelt grew frustrated with Taft's conservatism and belatedly tried to win the 1912 Republican nomination for president.\n",
      "Roosevelt failed, walked out, and founded the new Progressive Party.\n",
      "Roosevelt ran in the 1912 presidential election and the split allowed Wilson to the defeat the 1912 presidential election \n",
      "Following the defeat  Roosevelt led a four-month expedition to the Amazon basin where Roosevelt nearly died of tropical disease.\n",
      "During World War I  Roosevelt criticized Wilson for keeping the United States out of World War I  and Wilson offer to lead volunteers to France was rejected.\n",
      "Roosevelt considered running for president again in 1920, but Roosevelt health continued to deteriorate and Roosevelt died in 1919.\n",
      "Polls of historians and political scientists rank Roosevelt as one of the greatest presidents in American history.\n",
      "Polls of historians and political scientists rank Roosevelt as one of the greatest presidents in American history.Early life and family.\n",
      "Roosevelt at age 11.\n",
      "Roosevelt was born on October 27, 1858, at 28 East 20th Street in Manhattan, New York City \n",
      "Roosevelt was the second of four children born to Martha and His father \n",
      "Roosevelt had an older sister (Anna), Elliott and a younger sister (Corinne).\n",
      "Elliott was later the father of Anna Eleanor Roosevelt who married President Franklin Delano Roosevelt \n",
      "His paternal grandfather was of Dutch descent; His paternal grandfather other ancestry included primarily Scottish and Scots-Irish, English and smaller amounts of German, Welsh, and French.\n",
      "His father was the fifth son of businessman Cornelius Van Schaack \"C. V. S.\" Roosevelt and Margaret Barnhill as well as a brother of Robert Roosevelt and James A. Roosevelt.\n",
      "Roosevelt fourth cousin, James Roosevelt I, who was also a businessman, was the father of President Franklin Delano Roosevelt \n",
      "Martha was the younger daughter of Major James Stephens Bulloch and Martha P. \"Patsy\" Stewart.\n",
      "Through businessman Cornelius Van Schaack \"C. V. S.\" Roosevelt and Margaret Barnhill  Roosevelt was a descendant of the Schuyler family.\n",
      "Roosevelt youth was largely shaped by Roosevelt poor health and debilitating asthma.\n",
      "Roosevelt repeatedly experienced sudden nighttime asthma attacks that caused the experience of being smothered to death, which terrified both Roosevelt and Roosevelt parents.\n",
      "Roosevelt repeatedly experienced sudden nighttime asthma attacks that caused the experience of being smothered to death, which terrified both Roosevelt and Roosevelt parents.Doctors had no cure.\n",
      "Nevertheless, Roosevelt was energetic and mischievously inquisitive.\n",
      "Roosevelt lifelong interest in zoology began at age seven when Roosevelt saw a dead seal at a local market; after obtaining a dead seal head, Roosevelt and two cousins formed what Roosevelt and two cousins called his makeshift museum \n",
      "Having learned the rudiments of taxidermy, Roosevelt filled his makeshift museum with animals that he killed or caught  Roosevelt then studied animals that he killed or caught and prepared animals that he killed or caught for exhibition.\n",
      "At age nine, Roosevelt recorded Roosevelt observation of insects in a paper entitled \"The Natural History of Insects\".\n",
      "His father significantly influenced Roosevelt \n",
      "His father was a prominent leader in New York cultural affairs; His father helped to found the Metropolitan Museum of Art, and had been especially active in mobilizing support for the Union during the American Civil War, even though His father in-laws included Confederate leaders.\n",
      "Roosevelt said, \"His father  was the best man Roosevelt ever knew.\n",
      "His father combined strength and courage with gentleness, tenderness, and great unselfishness.\n",
      "His father would not tolerate in us children selfishness or cruelty, idleness, cowardice, or untruthfulness.\"\n",
      "6-year-old Theodore and 5-year-old Elliott watch Abraham Lincoln funeral procession from the second-floor window of his grandfather Cornelius's mansion (at top left, facing the camera), Manhattan, April 25, 1865.\n",
      "Family trips abroad, including tours of Europe in 1869 and 1870, and Egypt in 1872, shaped Roosevelt cosmopolitan perspective.\n",
      "Hiking with Roosevelt family in the Alps in 1869  Roosevelt found that Roosevelt could keep pace with His father \n",
      "Roosevelt had discovered the significant benefits of physical exertion to minimize Roosevelt asthma and bolster Roosevelt spirits.\n",
      "Roosevelt began a heavy regime of exercise.\n",
      "After being manhandled by two older boys on a camping trip, Roosevelt found a boxing coach to teach Roosevelt to fight and strengthen Roosevelt body.\n",
      "A 6-year-old Roosevelt witnessed the funeral procession of Abraham Lincoln from his grandfather Cornelius's mansion in Union Square, New York  where A 6-year-old Roosevelt was photographed in the window along with 5-year-old Elliott  as confirmed by A 6-year-old Roosevelt second wife, Edith, who was also present.\n",
      "A 6-year-old Roosevelt witnessed the funeral procession of Abraham Lincoln from his grandfather Cornelius's mansion in Union Square, New York  where A 6-year-old Roosevelt was photographed in the window along with 5-year-old Elliott  as confirmed by A 6-year-old Roosevelt second wife, Edith, who was also present.Education.\n",
      "Roosevelt was homeschooled, mostly by tutors and Roosevelt parents.\n",
      "Biographer H. W. Brands argued that \"The most obvious drawback to Roosevelt home schooling was uneven coverage of the various areas of human knowledge.\"\n",
      "Roosevelt was solid in geography and bright in history, biology, French, and German; however, Roosevelt struggled in mathematics and the classical languages.\n",
      "When Roosevelt entered Harvard on September 27, 1876, His father advised: \"Take care of Roosevelt morals first, Roosevelt health next, and finally Roosevelt studies.\"\n",
      "His father sudden death on February 9, 1878, devastated Roosevelt  but Roosevelt eventually recovered and doubled Roosevelt activities.\n",
      "His father regularly led the family in prayers.\n",
      "While at Harvard  Roosevelt emulated His father by teaching Sunday School for more than three years at Christ Church in Cambridge \n",
      "When the minister at Christ Church in Cambridge eventually insisted Roosevelt become an Episcopalian to continue teaching in Sunday School  Roosevelt declined, and instead began teaching a mission class in a poor section of Cambridge \n",
      "Roosevelt did well in science, philosophy, and rhetoric courses but continued to struggle in Latin and Greek.\n",
      "Roosevelt studied biology intently and was already an accomplished naturalist and a published ornithologist.\n",
      "Roosevelt read prodigiously with an almost photographic memory.\n",
      "While at Harvard  Roosevelt participated in rowing and boxing; Roosevelt was once runner-up in an intramural boxing tournament.\n",
      "Roosevelt was a member of the Alpha Delta Phi literary society (later the Fly Club), the Delta Kappa Epsilon fraternity, and the prestigious Porcellian Club; Roosevelt was also an editor of The Harvard Advocate.\n",
      "In 1880, Roosevelt graduated Phi Beta Kappa (22nd of 177) from Harvard with an A.B. magna cum laude.\n",
      "Biographer Henry F. Pringle states:\n",
      "\n",
      "Roosevelt  attempting to analyze Roosevelt college career and weigh the benefits Roosevelt had received, felt that Roosevelt had obtained little from Harvard \n",
      "Roosevelt had been depressed by the formalistic treatment of many subjects, by the rigidity, the attention to minutiae that were important in themselves, but which somehow were never linked up with the whole \n",
      "Roosevelt birthplace at 28 East 20th Street in Manhattan, New York City After died  Roosevelt had inherited $65,000 (equivalent to $1,971,069 in 2022), enough wealth on which Roosevelt could live comfortably for the rest of Roosevelt life.\n",
      "Roosevelt gave up Roosevelt earlier plan of studying natural science and decided to attend Columbia Law School instead, moving back into Roosevelt family's home in New York \n",
      "Although Roosevelt was an able law student, Roosevelt often found law to be irrational.\n",
      "Roosevelt spent much of Roosevelt time writing a book on the War of 1812.\n",
      "Determined to enter politics, Roosevelt began attending meetings at Morton Hall, the 59th Street headquarters of New York 21st District Republican Association.\n",
      "Though His father had been a prominent member of the Republican Party  Roosevelt made an unorthodox career choice for someone of Roosevelt class, as most of Roosevelt peers refrained from becoming too closely involved in politics.\n",
      "Roosevelt found allies in the local Republican Party and defeated an incumbent Republican state assemblyman tied to the political machine of Senator Roscoe Conkling closely.\n",
      "After defeated  Roosevelt decided to drop out of law school, later saying, \"Roosevelt intended to be one of the governing class.\"\n"
     ]
    }
   ],
   "source": [
    "start_term_index = 0\n",
    "output_sents = []\n",
    "for sent in sent_inds:\n",
    "    if start_term_index >= len(new_sorted_coref_output):\n",
    "        break\n",
    "    terms_in_sent = []\n",
    "    for i in range(start_term_index, len(new_sorted_coref_output)):\n",
    "        if new_sorted_coref_output[i][0] >= sent[0] and new_sorted_coref_output[i][0] <= sent[1]:\n",
    "            terms_in_sent.append(new_sorted_coref_output[i])\n",
    "            start_term_index += 1\n",
    "        else:\n",
    "            break\n",
    "    \n",
    "    if len(terms_in_sent) > 0:\n",
    "        # we can imagine the merging process as sent_chunk[i] + terms_in_sent[i] + sent_chunk[i + 1]\n",
    "        # because chunks are always 1 more than terms, we can repeat + terms_in_sent[i] + sent_chunk[i + 1]\n",
    "        output_sent = \"\"\n",
    "        for i, term in enumerate(terms_in_sent):\n",
    "            if i == 0:\n",
    "                output_sent += (text[(sent[0]): (term[0])])\n",
    "                \n",
    "                # print(output_sent)\n",
    "            else:\n",
    "                # where the \"initials, TR\" error occurs, happens because the term contains another term\n",
    "                output_sent += (text[terms_in_sent[i - 1][1] + 1: term[0]])\n",
    "                # print((text[terms_in_sent[i - 1][1] + 1: term[0]]))\n",
    "                output_sent += ''\n",
    "            output_sent += (cluster_representatives[term[3]]) + ' '\n",
    "            # print((cluster_representatives[term[3]]) + ' ')\n",
    "            output_sent += ''\n",
    "        output_sent += (text[terms_in_sent[-1][1] + 1: sent[1]])\n",
    "    else:\n",
    "        output_sent += (sent[2])\n",
    "    output_sents.append(output_sent)\n",
    "\n",
    "        \n",
    "for sent in output_sents:\n",
    "    print(sent)\n"
   ]
  },
  {
   "cell_type": "markdown",
   "metadata": {},
   "source": [
    "## Viết lên file để cho SVO đọc"
   ]
  },
  {
   "cell_type": "code",
   "execution_count": 15,
   "metadata": {},
   "outputs": [],
   "source": [
    "with open('text_after_coref.txt', 'w') as file:\n",
    "    for line in output_sents:\n",
    "        file.write(line + '\\n')\n",
    "    file.close()"
   ]
  },
  {
   "cell_type": "markdown",
   "metadata": {},
   "source": [
    "Đã thêm vào trong file small_teddy.txt các dấu chấm trong các mục \"Early life and family\", \"Theodore Roosevelt at age 11\" và \"Education\""
   ]
  },
  {
   "cell_type": "code",
   "execution_count": 16,
   "metadata": {},
   "outputs": [],
   "source": [
    "coref_text = []\n",
    "with open('text_after_coref.txt', 'r') as file:\n",
    "    while True:\n",
    "        line = file.readline()\n",
    "        if (line == ''):\n",
    "            break\n",
    "\n",
    "        for sentence in line.split('\\n'):\n",
    "            if sentence != '' :\n",
    "                coref_text.append(sentence)\n",
    "\n",
    "\n",
    "    file.close()"
   ]
  },
  {
   "cell_type": "code",
   "execution_count": 17,
   "metadata": {},
   "outputs": [
    {
     "data": {
      "text/plain": [
       "['Roosevelt was an American politician, statesman, soldier, conservationist, naturalist, historian, and writer who served as the 26th president of the United States from 1901 to 1909.',\n",
       " 'Roosevelt previously served as the 25th vice president under McKinley from March to September 1901 and as the 33rd governor of New York from 1899 to 1900.',\n",
       " 'Assuming the presidency after McKinley assassination, Roosevelt emerged as a leader of the Republican Party and became a driving force for anti-trust and Progressive policies.',\n",
       " 'A sickly child with debilitating asthma, Roosevelt overcame Roosevelt health problems as Roosevelt grew by embracing a strenuous lifestyle.',\n",
       " 'Roosevelt integrated Roosevelt exuberant personality and a vast range of interests and achievements into a \"cowboy\" persona defined by robust masculinity.',\n",
       " 'Roosevelt was home-schooled and began a lifelong naturalist avocation before attending Harvard ',\n",
       " 'Roosevelt book The Naval War of 1812 (1882) established Roosevelt reputation as a learned historian and popular writer.',\n",
       " 'Upon entering politics, Roosevelt became the leader of the reform faction of Republicans in New York state legislature.',\n",
       " 'Roosevelt first wife and mother died on the same night, devastating Roosevelt psychologically.',\n",
       " 'Roosevelt recuperated by buying and operating a cattle ranch in the Dakotas.',\n",
       " 'Roosevelt served as Assistant Secretary of the Navy under McKinley  and in 1898 helped plan the highly successful naval war against Spain.',\n",
       " 'Roosevelt resigned to help form and lead the Rough Riders, a unit that fought the Spanish Army in Cuba to great publicity.',\n",
       " 'Returning a war hero, Roosevelt was elected governor of New York in 1898 ',\n",
       " 'The New York state party leadership disliked Roosevelt ambitious agenda and convinced McKinley to choose Roosevelt as McKinley running mate in the 1900 election.',\n",
       " 'Roosevelt campaigned vigorously and the McKinley Roosevelt ticket won a landslide victory based on a platform of victory, peace, and prosperity.',\n",
       " 'Roosevelt assumed the presidency at age 42, and remains the youngest person to become president of the United States ',\n",
       " 'As a leader of the progressive movement Roosevelt championed his \"Square Deal\" domestic policies ',\n",
       " 'his \"Square Deal\" domestic policies called for fairness for all citizens, breaking of bad trusts, regulation of railroads, and pure food and drugs.',\n",
       " 'Roosevelt prioritized conservation and established national parks, forests, and monuments to preserve the United States natural resources.',\n",
       " 'In foreign policy, Roosevelt focused on Central America, where Roosevelt began construction of the Panama Canal.',\n",
       " 'Roosevelt expanded the Navy and sent the Great White Fleet on a world tour to project American naval power.',\n",
       " 'Roosevelt successful efforts to broker the end of the Russo-Japanese War won Roosevelt a Nobel Prize  making Roosevelt the first American to ever win a Nobel Prize ',\n",
       " 'Roosevelt was elected to a full term in 1904 and promoted policies more to the left, despite growing opposition from Republican leaders.',\n",
       " \"During Roosevelt presidency, Roosevelt groomed Taft's to succeed Roosevelt in the 1908 presidential election.\",\n",
       " \"Roosevelt grew frustrated with Taft's conservatism and belatedly tried to win the 1912 Republican nomination for president.\",\n",
       " 'Roosevelt failed, walked out, and founded the new Progressive Party.',\n",
       " 'Roosevelt ran in the 1912 presidential election and the split allowed Wilson to the defeat the 1912 presidential election ',\n",
       " 'Following the defeat  Roosevelt led a four-month expedition to the Amazon basin where Roosevelt nearly died of tropical disease.',\n",
       " 'During World War I  Roosevelt criticized Wilson for keeping the United States out of World War I  and Wilson offer to lead volunteers to France was rejected.',\n",
       " 'Roosevelt considered running for president again in 1920, but Roosevelt health continued to deteriorate and Roosevelt died in 1919.',\n",
       " 'Polls of historians and political scientists rank Roosevelt as one of the greatest presidents in American history.',\n",
       " 'Polls of historians and political scientists rank Roosevelt as one of the greatest presidents in American history.Early life and family.',\n",
       " 'Roosevelt at age 11.',\n",
       " 'Roosevelt was born on October 27, 1858, at 28 East 20th Street in Manhattan, New York City ',\n",
       " 'Roosevelt was the second of four children born to Martha and His father ',\n",
       " 'Roosevelt had an older sister (Anna), Elliott and a younger sister (Corinne).',\n",
       " 'Elliott was later the father of Anna Eleanor Roosevelt who married President Franklin Delano Roosevelt ',\n",
       " 'His paternal grandfather was of Dutch descent; His paternal grandfather other ancestry included primarily Scottish and Scots-Irish, English and smaller amounts of German, Welsh, and French.',\n",
       " 'His father was the fifth son of businessman Cornelius Van Schaack \"C. V. S.\" Roosevelt and Margaret Barnhill as well as a brother of Robert Roosevelt and James A. Roosevelt.',\n",
       " 'Roosevelt fourth cousin, James Roosevelt I, who was also a businessman, was the father of President Franklin Delano Roosevelt ',\n",
       " 'Martha was the younger daughter of Major James Stephens Bulloch and Martha P. \"Patsy\" Stewart.',\n",
       " 'Through businessman Cornelius Van Schaack \"C. V. S.\" Roosevelt and Margaret Barnhill  Roosevelt was a descendant of the Schuyler family.',\n",
       " 'Roosevelt youth was largely shaped by Roosevelt poor health and debilitating asthma.',\n",
       " 'Roosevelt repeatedly experienced sudden nighttime asthma attacks that caused the experience of being smothered to death, which terrified both Roosevelt and Roosevelt parents.',\n",
       " 'Roosevelt repeatedly experienced sudden nighttime asthma attacks that caused the experience of being smothered to death, which terrified both Roosevelt and Roosevelt parents.Doctors had no cure.',\n",
       " 'Nevertheless, Roosevelt was energetic and mischievously inquisitive.',\n",
       " 'Roosevelt lifelong interest in zoology began at age seven when Roosevelt saw a dead seal at a local market; after obtaining a dead seal head, Roosevelt and two cousins formed what Roosevelt and two cousins called his makeshift museum ',\n",
       " 'Having learned the rudiments of taxidermy, Roosevelt filled his makeshift museum with animals that he killed or caught  Roosevelt then studied animals that he killed or caught and prepared animals that he killed or caught for exhibition.',\n",
       " 'At age nine, Roosevelt recorded Roosevelt observation of insects in a paper entitled \"The Natural History of Insects\".',\n",
       " 'His father significantly influenced Roosevelt ',\n",
       " 'His father was a prominent leader in New York cultural affairs; His father helped to found the Metropolitan Museum of Art, and had been especially active in mobilizing support for the Union during the American Civil War, even though His father in-laws included Confederate leaders.',\n",
       " 'Roosevelt said, \"His father  was the best man Roosevelt ever knew.',\n",
       " 'His father combined strength and courage with gentleness, tenderness, and great unselfishness.',\n",
       " 'His father would not tolerate in us children selfishness or cruelty, idleness, cowardice, or untruthfulness.\"',\n",
       " \"6-year-old Theodore and 5-year-old Elliott watch Abraham Lincoln funeral procession from the second-floor window of his grandfather Cornelius's mansion (at top left, facing the camera), Manhattan, April 25, 1865.\",\n",
       " 'Family trips abroad, including tours of Europe in 1869 and 1870, and Egypt in 1872, shaped Roosevelt cosmopolitan perspective.',\n",
       " 'Hiking with Roosevelt family in the Alps in 1869  Roosevelt found that Roosevelt could keep pace with His father ',\n",
       " 'Roosevelt had discovered the significant benefits of physical exertion to minimize Roosevelt asthma and bolster Roosevelt spirits.',\n",
       " 'Roosevelt began a heavy regime of exercise.',\n",
       " 'After being manhandled by two older boys on a camping trip, Roosevelt found a boxing coach to teach Roosevelt to fight and strengthen Roosevelt body.',\n",
       " \"A 6-year-old Roosevelt witnessed the funeral procession of Abraham Lincoln from his grandfather Cornelius's mansion in Union Square, New York  where A 6-year-old Roosevelt was photographed in the window along with 5-year-old Elliott  as confirmed by A 6-year-old Roosevelt second wife, Edith, who was also present.\",\n",
       " \"A 6-year-old Roosevelt witnessed the funeral procession of Abraham Lincoln from his grandfather Cornelius's mansion in Union Square, New York  where A 6-year-old Roosevelt was photographed in the window along with 5-year-old Elliott  as confirmed by A 6-year-old Roosevelt second wife, Edith, who was also present.Education.\",\n",
       " 'Roosevelt was homeschooled, mostly by tutors and Roosevelt parents.',\n",
       " 'Biographer H. W. Brands argued that \"The most obvious drawback to Roosevelt home schooling was uneven coverage of the various areas of human knowledge.\"',\n",
       " 'Roosevelt was solid in geography and bright in history, biology, French, and German; however, Roosevelt struggled in mathematics and the classical languages.',\n",
       " 'When Roosevelt entered Harvard on September 27, 1876, His father advised: \"Take care of Roosevelt morals first, Roosevelt health next, and finally Roosevelt studies.\"',\n",
       " 'His father sudden death on February 9, 1878, devastated Roosevelt  but Roosevelt eventually recovered and doubled Roosevelt activities.',\n",
       " 'His father regularly led the family in prayers.',\n",
       " 'While at Harvard  Roosevelt emulated His father by teaching Sunday School for more than three years at Christ Church in Cambridge ',\n",
       " 'When the minister at Christ Church in Cambridge eventually insisted Roosevelt become an Episcopalian to continue teaching in Sunday School  Roosevelt declined, and instead began teaching a mission class in a poor section of Cambridge ',\n",
       " 'Roosevelt did well in science, philosophy, and rhetoric courses but continued to struggle in Latin and Greek.',\n",
       " 'Roosevelt studied biology intently and was already an accomplished naturalist and a published ornithologist.',\n",
       " 'Roosevelt read prodigiously with an almost photographic memory.',\n",
       " 'While at Harvard  Roosevelt participated in rowing and boxing; Roosevelt was once runner-up in an intramural boxing tournament.',\n",
       " 'Roosevelt was a member of the Alpha Delta Phi literary society (later the Fly Club), the Delta Kappa Epsilon fraternity, and the prestigious Porcellian Club; Roosevelt was also an editor of The Harvard Advocate.',\n",
       " 'In 1880, Roosevelt graduated Phi Beta Kappa (22nd of 177) from Harvard with an A.B. magna cum laude.',\n",
       " 'Biographer Henry F. Pringle states:',\n",
       " 'Roosevelt  attempting to analyze Roosevelt college career and weigh the benefits Roosevelt had received, felt that Roosevelt had obtained little from Harvard ',\n",
       " 'Roosevelt had been depressed by the formalistic treatment of many subjects, by the rigidity, the attention to minutiae that were important in themselves, but which somehow were never linked up with the whole ',\n",
       " 'Roosevelt birthplace at 28 East 20th Street in Manhattan, New York City After died  Roosevelt had inherited $65,000 (equivalent to $1,971,069 in 2022), enough wealth on which Roosevelt could live comfortably for the rest of Roosevelt life.',\n",
       " \"Roosevelt gave up Roosevelt earlier plan of studying natural science and decided to attend Columbia Law School instead, moving back into Roosevelt family's home in New York \",\n",
       " 'Although Roosevelt was an able law student, Roosevelt often found law to be irrational.',\n",
       " 'Roosevelt spent much of Roosevelt time writing a book on the War of 1812.',\n",
       " 'Determined to enter politics, Roosevelt began attending meetings at Morton Hall, the 59th Street headquarters of New York 21st District Republican Association.',\n",
       " 'Though His father had been a prominent member of the Republican Party  Roosevelt made an unorthodox career choice for someone of Roosevelt class, as most of Roosevelt peers refrained from becoming too closely involved in politics.',\n",
       " 'Roosevelt found allies in the local Republican Party and defeated an incumbent Republican state assemblyman tied to the political machine of Senator Roscoe Conkling closely.',\n",
       " 'After defeated  Roosevelt decided to drop out of law school, later saying, \"Roosevelt intended to be one of the governing class.\"']"
      ]
     },
     "execution_count": 17,
     "metadata": {},
     "output_type": "execute_result"
    }
   ],
   "source": [
    "coref_text"
   ]
  },
  {
   "cell_type": "code",
   "execution_count": 18,
   "metadata": {},
   "outputs": [],
   "source": [
    "import stanza\n",
    "from stanza.server import CoreNLPClient\n",
    "import os"
   ]
  },
  {
   "cell_type": "code",
   "execution_count": 19,
   "metadata": {},
   "outputs": [],
   "source": [
    "os.environ[\"CORENLP_HOME\"] = 'C:\\\\Users\\Long\\\\.stanfordnlp_resources\\\\stanford-corenlp-4.5.3'"
   ]
  },
  {
   "cell_type": "code",
   "execution_count": 21,
   "metadata": {},
   "outputs": [
    {
     "name": "stderr",
     "output_type": "stream",
     "text": [
      "11/09/2023 09:32:41 - INFO - \t Writing properties to tmp file: corenlp_server-048c47fabeef4799.props\n"
     ]
    },
    {
     "ename": "PermanentlyFailedException",
     "evalue": "Error: unable to start the CoreNLP server on port 9002 (possibly something is already running there)",
     "output_type": "error",
     "traceback": [
      "\u001b[1;31m---------------------------------------------------------------------------\u001b[0m",
      "\u001b[1;31mOSError\u001b[0m                                   Traceback (most recent call last)",
      "File \u001b[1;32md:\\anaconda3\\envs\\StockLSTM\\lib\\site-packages\\stanza\\server\\client.py:134\u001b[0m, in \u001b[0;36mRobustService.start\u001b[1;34m(self)\u001b[0m\n\u001b[0;32m    133\u001b[0m \u001b[39mtry\u001b[39;00m:\n\u001b[1;32m--> 134\u001b[0m     sock\u001b[39m.\u001b[39;49mbind((\u001b[39mself\u001b[39;49m\u001b[39m.\u001b[39;49mhost, \u001b[39mself\u001b[39;49m\u001b[39m.\u001b[39;49mport))\n\u001b[0;32m    135\u001b[0m \u001b[39mexcept\u001b[39;00m socket\u001b[39m.\u001b[39merror \u001b[39mas\u001b[39;00m e:\n",
      "\u001b[1;31mOSError\u001b[0m: [WinError 10048] Only one usage of each socket address (protocol/network address/port) is normally permitted",
      "\nThe above exception was the direct cause of the following exception:\n",
      "\u001b[1;31mPermanentlyFailedException\u001b[0m                Traceback (most recent call last)",
      "\u001b[1;32md:\\Dataset\\Ontology\\sent_replace.ipynb Cell 22\u001b[0m line \u001b[0;36m3\n\u001b[0;32m      <a href='vscode-notebook-cell:/d%3A/Dataset/Ontology/sent_replace.ipynb#X30sZmlsZQ%3D%3D?line=0'>1</a>\u001b[0m client \u001b[39m=\u001b[39m CoreNLPClient(timeout\u001b[39m=\u001b[39m\u001b[39m60000\u001b[39m, annotators\u001b[39m=\u001b[39m[\u001b[39m'\u001b[39m\u001b[39mopenie\u001b[39m\u001b[39m'\u001b[39m], \n\u001b[0;32m      <a href='vscode-notebook-cell:/d%3A/Dataset/Ontology/sent_replace.ipynb#X30sZmlsZQ%3D%3D?line=1'>2</a>\u001b[0m endpoint\u001b[39m=\u001b[39m\u001b[39m'\u001b[39m\u001b[39mhttp://localhost:9002\u001b[39m\u001b[39m'\u001b[39m)\n\u001b[1;32m----> <a href='vscode-notebook-cell:/d%3A/Dataset/Ontology/sent_replace.ipynb#X30sZmlsZQ%3D%3D?line=2'>3</a>\u001b[0m client\u001b[39m.\u001b[39;49mstart()\n\u001b[0;32m      <a href='vscode-notebook-cell:/d%3A/Dataset/Ontology/sent_replace.ipynb#X30sZmlsZQ%3D%3D?line=3'>4</a>\u001b[0m \u001b[39mimport\u001b[39;00m \u001b[39mtime\u001b[39;00m\n\u001b[0;32m      <a href='vscode-notebook-cell:/d%3A/Dataset/Ontology/sent_replace.ipynb#X30sZmlsZQ%3D%3D?line=4'>5</a>\u001b[0m time\u001b[39m.\u001b[39msleep(\u001b[39m10\u001b[39m)\n",
      "File \u001b[1;32md:\\anaconda3\\envs\\StockLSTM\\lib\\site-packages\\stanza\\server\\client.py:141\u001b[0m, in \u001b[0;36mRobustService.start\u001b[1;34m(self)\u001b[0m\n\u001b[0;32m    139\u001b[0m                 \u001b[39mreturn\u001b[39;00m\n\u001b[0;32m    140\u001b[0m             \u001b[39melse\u001b[39;00m:\n\u001b[1;32m--> 141\u001b[0m                 \u001b[39mraise\u001b[39;00m PermanentlyFailedException(\u001b[39m\"\u001b[39m\u001b[39mError: unable to start the CoreNLP server on port \u001b[39m\u001b[39m%d\u001b[39;00m\u001b[39m \u001b[39m\u001b[39m\"\u001b[39m\n\u001b[0;32m    142\u001b[0m                                                  \u001b[39m\"\u001b[39m\u001b[39m(possibly something is already running there)\u001b[39m\u001b[39m\"\u001b[39m \u001b[39m%\u001b[39m \u001b[39mself\u001b[39m\u001b[39m.\u001b[39mport) \u001b[39mfrom\u001b[39;00m \u001b[39me\u001b[39;00m\n\u001b[0;32m    143\u001b[0m \u001b[39mif\u001b[39;00m \u001b[39mself\u001b[39m\u001b[39m.\u001b[39mbe_quiet:\n\u001b[0;32m    144\u001b[0m     \u001b[39m# Issue #26: subprocess.DEVNULL isn't supported in python 2.7.\u001b[39;00m\n\u001b[0;32m    145\u001b[0m     \u001b[39mif\u001b[39;00m \u001b[39mhasattr\u001b[39m(subprocess, \u001b[39m'\u001b[39m\u001b[39mDEVNULL\u001b[39m\u001b[39m'\u001b[39m):\n",
      "\u001b[1;31mPermanentlyFailedException\u001b[0m: Error: unable to start the CoreNLP server on port 9002 (possibly something is already running there)"
     ]
    }
   ],
   "source": [
    "client = CoreNLPClient(timeout=60000, annotators=['openie'], \n",
    "endpoint='http://localhost:9002')\n",
    "client.start()\n",
    "import time\n",
    "time.sleep(10)"
   ]
  },
  {
   "cell_type": "code",
   "execution_count": null,
   "metadata": {},
   "outputs": [
    {
     "name": "stdout",
     "output_type": "stream",
     "text": [
      "Starting server with command: java -Xmx8G -cp C:\\Users\\Long\\.stanfordnlp_resources\\stanford-corenlp-4.5.3/* edu.stanford.nlp.pipeline.StanfordCoreNLPServer -port 9000 -timeout 60000 -threads 5 -maxCharLength 100000 -quiet True -serverProperties corenlp_server-911867b69a1d4f7a.props -preload openie\n"
     ]
    },
    {
     "ename": "PermanentlyFailedException",
     "evalue": "Timed out waiting for service to come alive.",
     "output_type": "error",
     "traceback": [
      "\u001b[1;31m---------------------------------------------------------------------------\u001b[0m",
      "\u001b[1;31mPermanentlyFailedException\u001b[0m                Traceback (most recent call last)",
      "\u001b[1;32md:\\Dataset\\Ontology\\sent_replace.ipynb Cell 21\u001b[0m line \u001b[0;36m1\n\u001b[0;32m      <a href='vscode-notebook-cell:/d%3A/Dataset/Ontology/sent_replace.ipynb#X35sZmlsZQ%3D%3D?line=6'>7</a>\u001b[0m txt \u001b[39m=\u001b[39m \u001b[39m'\u001b[39m\u001b[39m \u001b[39m\u001b[39m'\u001b[39m\u001b[39m.\u001b[39mjoin(txt\u001b[39m.\u001b[39msplitlines())\n\u001b[0;32m     <a href='vscode-notebook-cell:/d%3A/Dataset/Ontology/sent_replace.ipynb#X35sZmlsZQ%3D%3D?line=9'>10</a>\u001b[0m \u001b[39mwith\u001b[39;00m StanfordOpenIE(properties\u001b[39m=\u001b[39mproperties) \u001b[39mas\u001b[39;00m client:\n\u001b[0;32m     <a href='vscode-notebook-cell:/d%3A/Dataset/Ontology/sent_replace.ipynb#X35sZmlsZQ%3D%3D?line=10'>11</a>\u001b[0m     \u001b[39m# print('Text: %s.' % text)\u001b[39;00m\n\u001b[0;32m     <a href='vscode-notebook-cell:/d%3A/Dataset/Ontology/sent_replace.ipynb#X35sZmlsZQ%3D%3D?line=11'>12</a>\u001b[0m     \u001b[39m# for triple in client.annotate(text):\u001b[39;00m\n\u001b[0;32m     <a href='vscode-notebook-cell:/d%3A/Dataset/Ontology/sent_replace.ipynb#X35sZmlsZQ%3D%3D?line=12'>13</a>\u001b[0m     \u001b[39m#     print('|-', triple)\u001b[39;00m\n\u001b[1;32m---> <a href='vscode-notebook-cell:/d%3A/Dataset/Ontology/sent_replace.ipynb#X35sZmlsZQ%3D%3D?line=13'>14</a>\u001b[0m     result \u001b[39m=\u001b[39m client\u001b[39m.\u001b[39;49mannotate(txt)\n\u001b[0;32m     <a href='vscode-notebook-cell:/d%3A/Dataset/Ontology/sent_replace.ipynb#X35sZmlsZQ%3D%3D?line=14'>15</a>\u001b[0m     df \u001b[39m=\u001b[39m pd\u001b[39m.\u001b[39mDataFrame\u001b[39m.\u001b[39mfrom_dict(result)\n\u001b[0;32m     <a href='vscode-notebook-cell:/d%3A/Dataset/Ontology/sent_replace.ipynb#X35sZmlsZQ%3D%3D?line=15'>16</a>\u001b[0m     df\u001b[39m.\u001b[39mto_excel(\u001b[39m'\u001b[39m\u001b[39msmall_teddy_SVO1.xlsx\u001b[39m\u001b[39m'\u001b[39m)\n",
      "File \u001b[1;32md:\\anaconda3\\envs\\StockLSTM\\lib\\site-packages\\openie\\openie.py:57\u001b[0m, in \u001b[0;36mStanfordOpenIE.annotate\u001b[1;34m(self, text, properties_key, properties, simple_format)\u001b[0m\n\u001b[0;32m     49\u001b[0m \u001b[39m\u001b[39m\u001b[39m\"\"\"\u001b[39;00m\n\u001b[0;32m     50\u001b[0m \u001b[39m:param (str | unicode) text: raw text for the CoreNLPServer to parse\u001b[39;00m\n\u001b[0;32m     51\u001b[0m \u001b[39m:param (str) properties_key: key into properties cache for the client\u001b[39;00m\n\u001b[1;32m   (...)\u001b[0m\n\u001b[0;32m     54\u001b[0m \u001b[39m:return: Depending on simple_format: full or simpler format of triples <subject, relation, object>.\u001b[39;00m\n\u001b[0;32m     55\u001b[0m \u001b[39m\"\"\"\u001b[39;00m\n\u001b[0;32m     56\u001b[0m \u001b[39m# https://stanfordnlp.github.io/CoreNLP/openie.html\u001b[39;00m\n\u001b[1;32m---> 57\u001b[0m core_nlp_output \u001b[39m=\u001b[39m \u001b[39mself\u001b[39;49m\u001b[39m.\u001b[39;49mclient\u001b[39m.\u001b[39;49mannotate(\n\u001b[0;32m     58\u001b[0m     text\u001b[39m=\u001b[39;49mtext, annotators\u001b[39m=\u001b[39;49m[\u001b[39m'\u001b[39;49m\u001b[39mopenie\u001b[39;49m\u001b[39m'\u001b[39;49m], output_format\u001b[39m=\u001b[39;49m\u001b[39m'\u001b[39;49m\u001b[39mjson\u001b[39;49m\u001b[39m'\u001b[39;49m,\n\u001b[0;32m     59\u001b[0m     properties_key\u001b[39m=\u001b[39;49mproperties_key, properties\u001b[39m=\u001b[39;49mproperties\n\u001b[0;32m     60\u001b[0m )\n\u001b[0;32m     61\u001b[0m \u001b[39mif\u001b[39;00m simple_format:\n\u001b[0;32m     62\u001b[0m     triples \u001b[39m=\u001b[39m []\n",
      "File \u001b[1;32md:\\anaconda3\\envs\\StockLSTM\\lib\\site-packages\\stanfordnlp\\server\\client.py:398\u001b[0m, in \u001b[0;36mCoreNLPClient.annotate\u001b[1;34m(self, text, annotators, output_format, properties_key, properties, **kwargs)\u001b[0m\n\u001b[0;32m    396\u001b[0m         request_properties[\u001b[39m'\u001b[39m\u001b[39moutputFormat\u001b[39m\u001b[39m'\u001b[39m] \u001b[39m=\u001b[39m CoreNLPClient\u001b[39m.\u001b[39mDEFAULT_OUTPUT_FORMAT\n\u001b[0;32m    397\u001b[0m \u001b[39m# make the request\u001b[39;00m\n\u001b[1;32m--> 398\u001b[0m r \u001b[39m=\u001b[39m \u001b[39mself\u001b[39m\u001b[39m.\u001b[39m_request(text\u001b[39m.\u001b[39mencode(\u001b[39m'\u001b[39m\u001b[39mutf-8\u001b[39m\u001b[39m'\u001b[39m), request_properties, \u001b[39m*\u001b[39m\u001b[39m*\u001b[39mkwargs)\n\u001b[0;32m    399\u001b[0m \u001b[39mif\u001b[39;00m request_properties[\u001b[39m\"\u001b[39m\u001b[39moutputFormat\u001b[39m\u001b[39m\"\u001b[39m] \u001b[39m==\u001b[39m \u001b[39m\"\u001b[39m\u001b[39mjson\u001b[39m\u001b[39m\"\u001b[39m:\n\u001b[0;32m    400\u001b[0m     \u001b[39mreturn\u001b[39;00m r\u001b[39m.\u001b[39mjson()\n",
      "File \u001b[1;32md:\\anaconda3\\envs\\StockLSTM\\lib\\site-packages\\stanfordnlp\\server\\client.py:311\u001b[0m, in \u001b[0;36mCoreNLPClient._request\u001b[1;34m(self, buf, properties, **kwargs)\u001b[0m\n\u001b[0;32m    303\u001b[0m \u001b[39mdef\u001b[39;00m \u001b[39m_request\u001b[39m(\u001b[39mself\u001b[39m, buf, properties, \u001b[39m*\u001b[39m\u001b[39m*\u001b[39mkwargs):\n\u001b[0;32m    304\u001b[0m \u001b[39m    \u001b[39m\u001b[39m\"\"\"\u001b[39;00m\n\u001b[0;32m    305\u001b[0m \u001b[39m    Send a request to the CoreNLP server.\u001b[39;00m\n\u001b[0;32m    306\u001b[0m \n\u001b[1;32m   (...)\u001b[0m\n\u001b[0;32m    309\u001b[0m \u001b[39m    :return: request result\u001b[39;00m\n\u001b[0;32m    310\u001b[0m \u001b[39m    \"\"\"\u001b[39;00m\n\u001b[1;32m--> 311\u001b[0m     \u001b[39mself\u001b[39;49m\u001b[39m.\u001b[39;49mensure_alive()\n\u001b[0;32m    313\u001b[0m     \u001b[39mtry\u001b[39;00m:\n\u001b[0;32m    314\u001b[0m         input_format \u001b[39m=\u001b[39m properties\u001b[39m.\u001b[39mget(\u001b[39m\"\u001b[39m\u001b[39minputFormat\u001b[39m\u001b[39m\"\u001b[39m, \u001b[39m\"\u001b[39m\u001b[39mtext\u001b[39m\u001b[39m\"\u001b[39m)\n",
      "File \u001b[1;32md:\\anaconda3\\envs\\StockLSTM\\lib\\site-packages\\stanfordnlp\\server\\client.py:137\u001b[0m, in \u001b[0;36mRobustService.ensure_alive\u001b[1;34m(self)\u001b[0m\n\u001b[0;32m    135\u001b[0m         time\u001b[39m.\u001b[39msleep(\u001b[39m1\u001b[39m)\n\u001b[0;32m    136\u001b[0m     \u001b[39melse\u001b[39;00m:\n\u001b[1;32m--> 137\u001b[0m         \u001b[39mraise\u001b[39;00m PermanentlyFailedException(\u001b[39m\"\u001b[39m\u001b[39mTimed out waiting for service to come alive.\u001b[39m\u001b[39m\"\u001b[39m)\n\u001b[0;32m    139\u001b[0m \u001b[39m# At this point we are guaranteed that the service is alive.\u001b[39;00m\n\u001b[0;32m    140\u001b[0m \u001b[39mself\u001b[39m\u001b[39m.\u001b[39mis_active \u001b[39m=\u001b[39m \u001b[39mTrue\u001b[39;00m\n",
      "\u001b[1;31mPermanentlyFailedException\u001b[0m: Timed out waiting for service to come alive."
     ]
    }
   ],
   "source": [
    "properties = {\n",
    "    'openie.affinity_probability_cap': 1/3,\n",
    "}\n",
    "\n",
    "path = \"small_teddy.txt\"\n",
    "txt = open(path, 'r').read()\n",
    "txt = ' '.join(txt.splitlines())\n",
    "\n",
    "\n",
    "with StanfordOpenIE(properties=properties) as client:\n",
    "    # print('Text: %s.' % text)\n",
    "    # for triple in client.annotate(text):\n",
    "    #     print('|-', triple)\n",
    "    result = client.annotate(txt)\n",
    "    df = pd.DataFrame.from_dict(result)\n",
    "    df.to_excel('small_teddy_SVO1.xlsx')\n",
    "    print('Finished')"
   ]
  }
 ],
 "metadata": {
  "kernelspec": {
   "display_name": "Python 3",
   "language": "python",
   "name": "python3"
  },
  "language_info": {
   "codemirror_mode": {
    "name": "ipython",
    "version": 3
   },
   "file_extension": ".py",
   "mimetype": "text/x-python",
   "name": "python",
   "nbconvert_exporter": "python",
   "pygments_lexer": "ipython3",
   "version": "3.10.13"
  }
 },
 "nbformat": 4,
 "nbformat_minor": 2
}
